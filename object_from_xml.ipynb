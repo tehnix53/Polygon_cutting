{
 "cells": [
  {
   "cell_type": "code",
   "execution_count": 1,
   "metadata": {},
   "outputs": [],
   "source": [
    "import numpy as np\n",
    "import os\n",
    "from PIL import Image\n",
    "from xml.etree import ElementTree\n",
    "from xml.etree.ElementTree import XMLParser\n",
    "import matplotlib.pyplot as plt"
   ]
  },
  {
   "cell_type": "code",
   "execution_count": 195,
   "metadata": {},
   "outputs": [],
   "source": [
    "def get_object_from_xml(file_path): \n",
    
    "    tree = ElementTree.parse(file_path)\n",
    "    root = tree.getroot()\n",
    "    result = []\n",
    "    for i in root:\n",
    "        if i.tag == 'filename':\n",
    "            result += [i.text]\n",
    "        elif i.tag == 'object':\n",
    "            for el in i:\n",
    "                if el.tag == 'name':\n",
    "                    result += [el.text]\n",
    "                elif el.tag == 'polygon':                 \n",
    "                    for j in el:\n",
    "                        if j.tag == \"pt\":\n",
    "                            coord = []\n",
    "                            for c in j:                   \n",
    "                                if c.tag == 'x'  or c.tag == 'y':                                     \n",
    "                                    coord += [int(float(c.text))]                                \n",
    "                            result+= [tuple(coord)]\n",
    "    return result"
   ]
  },
  {
   "cell_type": "code",
   "execution_count": 196,
   "metadata": {},
   "outputs": [
    {
     "data": {
      "text/plain": [
       "['117_image0000000816.jpg',\n",
       " '7',\n",
       " (168, 1763),\n",
       " (216, 1763),\n",
       " (216, 1844),\n",
       " (168, 1844),\n",
       " '4',\n",
       " (50, 1773),\n",
       " (106, 1773),\n",
       " (106, 1852),\n",
       " (50, 1852)]"
      ]
     },
     "execution_count": 196,
     "metadata": {},
     "output_type": "execute_result"
    }
   ],
   "source": [
    "get_object_from_xml(xml_file)"
   ]
  }
 ],
 "metadata": {
  "kernelspec": {
   "display_name": "Python 3",
   "language": "python",
   "name": "python3"
  },
  "language_info": {
   "codemirror_mode": {
    "name": "ipython",
    "version": 3
   },
   "file_extension": ".py",
   "mimetype": "text/x-python",
   "name": "python",
   "nbconvert_exporter": "python",
   "pygments_lexer": "ipython3",
   "version": "3.6.8"
  }
 },
 "nbformat": 4,
 "nbformat_minor": 2
}
