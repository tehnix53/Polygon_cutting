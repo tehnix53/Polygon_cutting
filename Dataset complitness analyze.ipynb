{
 "cells": [
  {
   "cell_type": "code",
   "execution_count": 2,
   "metadata": {},
   "outputs": [],
   "source": [
    "import numpy as np\n",
    "import os, glob\n",
    "from PIL import Image\n",
    "from xml.etree import ElementTree\n",
    "from xml.etree.ElementTree import XMLParser\n",
    "import matplotlib.pyplot as plt\n",
    "from numpy import array\n",
    "int32 = 'int32'\n",
    "import tqdm\n",
    "import pandas as pd\n",
    "import cv2"
   ]
  },
  {
   "cell_type": "code",
   "execution_count": 3,
   "metadata": {},
   "outputs": [],
   "source": [
    "home_dir = '/home/alex/poker/detector_train/gg_1'"
   ]
  },
  {
   "cell_type": "code",
   "execution_count": 5,
   "metadata": {},
   "outputs": [
    {
     "data": {
      "text/plain": [
       "'dataset is full'"
      ]
     },
     "execution_count": 5,
     "metadata": {},
     "output_type": "execute_result"
    }
   ],
   "source": [
    "a = CompletenessPack(home_dir)\n",
    "a.compare()"
   ]
  },
  {
   "cell_type": "code",
   "execution_count": 24,
   "metadata": {},
   "outputs": [],
   "source": [
    "class CompletenessPack:\n",
    "    \n",
    "    def __init__(self,xml_dir):\n",
    "        self.annotations = glob.glob(xml_dir+'/*.xml')\n",
    "        rangs = ['2','3','4','5','6','7','8','9','10',\\\n",
    "                'q','k','a','j']\n",
    "        suits = ['♠', '♦', '♥', '♣']\n",
    "        self.pack = [(x+y) for x in rangs for y in suits]\n",
    "        \n",
    "    def _get_cardlist(self, xml_file_path):\n",
    "        \n",
    "        tree = ElementTree.parse(xml_file_path)\n",
    "        root = tree.getroot()\n",
    "        values = []\n",
    "        for i in root:\n",
    "            b_boxes = {}\n",
    "            if i.tag == 'object' and i[0].text\\\n",
    "            == 'cards':  \n",
    "                 for el in i:                \n",
    "                    if el.tag == 'attributes':                    \n",
    "                        value = el.text.split('=')[1] \n",
    "                        if len(value)>1 and value != '10':\n",
    "                            values += [value]\n",
    "        return values\n",
    "        \n",
    "    def compare(self):\n",
    "        \n",
    "        cards_from_ds = []\n",
    "        for i in self.annotations:\n",
    "            res = self._get_cardlist(i)\n",
    "            for card in res:\n",
    "                if card not in cards_from_ds:\n",
    "                    cards_from_ds += [card]\n",
    "        \n",
    "        answer = []\n",
    "        for i in self.pack:\n",
    "            if i not in cards_from_ds:\n",
    "                answer += [i]\n",
    "                \n",
    "        if len(answer) > 0:\n",
    "            return answer\n",
    "        else:\n",
    "            return 'dataset is full'\n",
    "                "
   ]
  },
  {
   "cell_type": "code",
   "execution_count": 30,
   "metadata": {},
   "outputs": [
    {
     "data": {
      "text/plain": [
       "['/home/alex/poker/detector_train/gg_analyze/GG_1080_QA_2',\n",
       " '/home/alex/poker/detector_train/gg_analyze/GG_Train_1280_jpg',\n",
       " '/home/alex/poker/detector_train/gg_analyze/gg_2400_resize_1200_90',\n",
       " '/home/alex/poker/detector_train/gg_analyze/GG_TrainDataset_cards_2+1_1',\n",
       " '/home/alex/poker/detector_train/gg_analyze/GG_TrainDataset_cards_2+1_2',\n",
       " '/home/alex/poker/detector_train/gg_analyze/GGPokerOk_GT_3_cat',\n",
       " '/home/alex/poker/detector_train/gg_analyze/GGPokerOk_1080_webp_1']"
      ]
     },
     "execution_count": 30,
     "metadata": {},
     "output_type": "execute_result"
    }
   ],
   "source": [
    "base_dir = '/home/alex/poker/detector_train/gg_analyze'\n",
    "ds_dirs = glob.glob(base_dir+'/*')\n",
    "ds_dirs"
   ]
  },
  {
   "cell_type": "code",
   "execution_count": 31,
   "metadata": {},
   "outputs": [
    {
     "name": "stdout",
     "output_type": "stream",
     "text": [
      "GG_1080_QA_2 dataset is full\n",
      "GG_Train_1280_jpg dataset is full\n",
      "gg_2400_resize_1200_90 ['3♦', '4♠', '4♣', '7♥', 'a♥']\n",
      "GG_TrainDataset_cards_2+1_1 dataset is full\n",
      "GG_TrainDataset_cards_2+1_2 dataset is full\n",
      "GGPokerOk_GT_3_cat ['2♠', '2♦', '2♥', '2♣', '3♠', '3♦', '3♥', '3♣', '4♠', '4♦', '4♥', '4♣', '5♠', '5♦', '5♥', '5♣', '6♠', '6♦', '6♥', '6♣', '7♠', '7♦', '7♥', '7♣', '8♠', '8♦', '8♥', '8♣', '9♠', '9♦', '9♥', '9♣', '10♠', '10♦', '10♥', '10♣', 'q♠', 'q♦', 'q♥', 'q♣', 'k♠', 'k♦', 'k♥', 'k♣', 'a♠', 'a♦', 'a♥', 'a♣', 'j♠', 'j♦', 'j♥', 'j♣']\n",
      "GGPokerOk_1080_webp_1 ['3♥', 'k♠']\n"
     ]
    }
   ],
   "source": [
    "for i in ds_dirs:\n",
    "    a = CompletenessPack(i)\n",
    "    res = a.compare()\n",
    "    path = i.split('/')[-1]\n",
    "    print (path, res)"
   ]
  },
  {
   "cell_type": "code",
   "execution_count": 34,
   "metadata": {},
   "outputs": [
    {
     "data": {
      "text/plain": [
       "'/home/alex/poker/detector_train/gg_analyze/GGPokerOk_GT_3_cat'"
      ]
     },
     "execution_count": 34,
     "metadata": {},
     "output_type": "execute_result"
    }
   ],
   "source": [
    "ds_dirs[5]"
   ]
  },
  {
   "cell_type": "code",
   "execution_count": 36,
   "metadata": {},
   "outputs": [
    {
     "data": {
      "text/plain": [
       "68"
      ]
     },
     "execution_count": 36,
     "metadata": {},
     "output_type": "execute_result"
    }
   ],
   "source": [
    "testing = glob.glob(ds_dirs[5]+'/*.xml')\n",
    "len(testing)"
   ]
  },
  {
   "cell_type": "code",
   "execution_count": 37,
   "metadata": {},
   "outputs": [
    {
     "name": "stdout",
     "output_type": "stream",
     "text": [
      "None\n",
      "None\n",
      "None\n",
      "None\n",
      "None\n",
      "None\n",
      "None\n",
      "None\n",
      "None\n",
      "None\n",
      "None\n",
      "None\n",
      "None\n",
      "None\n",
      "None\n",
      "None\n",
      "None\n",
      "None\n",
      "None\n",
      "None\n",
      "None\n",
      "None\n",
      "None\n",
      "None\n",
      "None\n",
      "None\n",
      "None\n",
      "None\n",
      "None\n",
      "None\n",
      "None\n",
      "None\n",
      "None\n",
      "None\n",
      "None\n",
      "None\n",
      "None\n",
      "None\n",
      "None\n",
      "None\n",
      "None\n",
      "None\n",
      "None\n",
      "None\n",
      "None\n",
      "None\n",
      "None\n",
      "None\n",
      "None\n",
      "None\n",
      "None\n",
      "None\n",
      "None\n",
      "None\n",
      "None\n",
      "None\n",
      "None\n",
      "None\n",
      "None\n",
      "None\n",
      "None\n",
      "None\n",
      "None\n",
      "None\n",
      "None\n",
      "None\n",
      "None\n",
      "None\n"
     ]
    }
   ],
   "source": [
    "for i in testing:\n",
    "    print (get_cardlist(i))"
   ]
  },
  {
   "cell_type": "code",
   "execution_count": 35,
   "metadata": {},
   "outputs": [],
   "source": [
    "    def get_cardlist(xml_file_path):\n",
    "        \n",
    "        tree = ElementTree.parse(xml_file_path)\n",
    "        root = tree.getroot()\n",
    "        values = []\n",
    "        for i in root:\n",
    "            b_boxes = {}\n",
    "            if i.tag == 'object' and i[0].text\\\n",
    "            == 'cards':  \n",
    "                 for el in i:                \n",
    "                    if el.tag == 'attributes':                    \n",
    "                        value = el.text.split('=')[1] \n",
    "                        if len(value)>1 and value != '10':\n",
    "                            values += [value]"
   ]
  },
  {
   "cell_type": "code",
   "execution_count": null,
   "metadata": {},
   "outputs": [],
   "source": []
  },
  {
   "cell_type": "code",
   "execution_count": null,
   "metadata": {},
   "outputs": [],
   "source": []
  }
 ],
 "metadata": {
  "kernelspec": {
   "display_name": "Python 3",
   "language": "python",
   "name": "python3"
  },
  "language_info": {
   "codemirror_mode": {
    "name": "ipython",
    "version": 3
   },
   "file_extension": ".py",
   "mimetype": "text/x-python",
   "name": "python",
   "nbconvert_exporter": "python",
   "pygments_lexer": "ipython3",
   "version": "3.6.8"
  }
 },
 "nbformat": 4,
 "nbformat_minor": 2
}
