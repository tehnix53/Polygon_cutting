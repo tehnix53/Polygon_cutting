{
 "cells": [
  {
   "cell_type": "code",
   "execution_count": 14,
   "metadata": {},
   "outputs": [],
   "source": [
    "import numpy as np\n",
    "import os\n",
    "from PIL import Image\n",
    "import cv2\n",
    "import pandas as pd\n",
    "import matplotlib.pyplot as plt\n",
    "import random"
   ]
  },
  {
   "cell_type": "code",
   "execution_count": 13,
   "metadata": {},
   "outputs": [],
   "source": [
    "def draw_border(img, pt1, pt2, color, thickness, r, d):\n",
    "    x1,y1 = pt1\n",
    "    x2,y2 = pt2\n",
    "    len_x =x2-x1\n",
    "    len_y =y2-y1    \n",
    "    # Top left\n",
    "    cv2.line(img, (x1 + r, y1), (x1 + len_x//2, y1), color, thickness)\n",
    "    cv2.line(img, (x1, y1 + r), (x1, y1 + len_y//2), color, thickness)\n",
    "    cv2.ellipse(img, (x1 + r, y1 + r), (r, r), 180, 0, 90, color, thickness) \n",
    "    # Top right\n",
    "    cv2.line(img, (x2 - r, y1), (x2 - len_x//2, y1), color, thickness)\n",
    "    cv2.line(img, (x2, y1 + r), (x2, y1 + len_y//2), color, thickness)\n",
    "    cv2.ellipse(img, (x2 - r, y1 + r), (r, r), 270, 0, 90, color, thickness) \n",
    "    # Bottom left\n",
    "    cv2.line(img, (x1 + r, y2), (x1 + len_x//2, y2), color, thickness)\n",
    "    cv2.line(img, (x1, y2 - r), (x1, y2 - len_y//2), color, thickness)\n",
    "    cv2.ellipse(img, (x1 + r, y2 - r), (r, r), 90, 0, 90, color, thickness) \n",
    "    # Bottom right\n",
    "    cv2.line(img, (x2 - r, y2), (x2 - len_x//2, y2), color, thickness)\n",
    "    cv2.line(img, (x2, y2 - r), (x2, y2 - len_y//2), color, thickness)\n",
    "    cv2.ellipse(img, (x2 - r, y2 - r), (r, r), 0, 0, 90, color, thickness)\n",
    "    #print ('len_x is ',len_x, 'len_y is', len_y,' delta x is',  get_delta(len_x),'delta y is', get_delta(len_y))\n",
    "    return img"
   ]
  },
  {
   "cell_type": "code",
   "execution_count": 15,
   "metadata": {},
   "outputs": [],
   "source": [
    "all_backgrounds = [[128, 128, 128], [190, 190, 190], \n",
    "                   [133, 133, 133], [84, 84, 84], \n",
    "                   [112, 128, 144], [153, 149, 140], \n",
    "                   [187, 187, 187], [192, 192, 192], \n",
    "                   [240, 240, 240], [224, 224, 224], \n",
    "                   [211, 211, 211], [119, 136, 153],\n",
    "                   [198, 226, 255], [185, 211, 238],\n",
    "                   [159, 182, 205], [108, 123, 139], \n",
    "                   [128, 128, 128], [0, 128, 0], \n",
    "                   [0, 255, 0], [128, 0, 0], \n",
    "                   [0, 0, 128], [0, 0, 0], \n",
    "                   [0, 0, 255], [128, 128, 128],\n",
    "                   [0, 128, 128], [255, 255, 255]]"
   ]
  },
  {
   "cell_type": "code",
   "execution_count": 17,
   "metadata": {},
   "outputs": [],
   "source": [
    "def random_round_rectangles(x ,y, base_size = 15, cicles = 30, max_number_of_element = 8): \n",
    "    \n",
    "    \n",
    "    def random_3d(a,b, backgrounds):\n",
    "        color = random.choice(backgrounds)  \n",
    "        \n",
    "        def two_d(size, back):\n",
    "            line = []\n",
    "            for i in range (size):\n",
    "                line += [back]\n",
    "            return line    \n",
    "        \n",
    "        res = []\n",
    "        for i in range (a):\n",
    "            res += [two_d(b,color)]\n",
    "            \n",
    "        res = np.asarray(res)  \n",
    "        res = np.uint8(res)    \n",
    "        return res\n",
    "    \n",
    "    \n",
    "    def get_coordinate(x1,x2,y1,y2):\n",
    "        return [[i,j] for i in range(x1,x2) for j in range(y1,y2)]\n",
    "\n",
    "    def get_center(x2,y2,length):\n",
    "        return ((x2)-length, (y2)-length)\n",
    "\n",
    "    def delta(first,second):\n",
    "        return [i for i in first if i not in second]     \n",
    "    \n",
    "    output = {}\n",
    "    zero_area = random_3d(x,y,all_backgrounds)\n",
    "    possible_area = get_coordinate(0,y,0,x)\n",
    "    possible_color = [0,255]\n",
    "    res = zero_area    \n",
    "    counter = 0\n",
    "    possible_size = [1,2,3,4,5,6,7,8,9,10]\n",
    "    possible_fill = [1,-1]  \n",
    "    figure_type = [0,1,2]\n",
    "    is_long_rectangle = [1,2,3,4]\n",
    "\n",
    "    for i in range(cicles):  \n",
    "        choice = random.choice(possible_area)\n",
    "        start_point = (choice[0],choice[1])\n",
    "        size = base_size+random.choice(possible_size)\n",
    "        end_point = (choice[0]+size*random.choice(is_long_rectangle), choice[1]+size)\n",
    "        range_between = 6\n",
    "        center = (get_center(end_point[0],end_point[1],size//2))\n",
    "        rect_area = get_coordinate(start_point[0]-range_between,end_point[0]+range_between,\n",
    "                                   start_point[1]-range_between,end_point[1]+range_between)        \n",
    "        this_delta = delta(rect_area, possible_area) \n",
    "        possible_radius = [1,2,3,4,5]\n",
    "        \n",
    "        \n",
    "        if len(this_delta) == 0:    \n",
    "            counter += 1\n",
    "            color = (random.choice(possible_color), random.choice(possible_color), random.choice(possible_color)) \n",
    "            thickness = random.choice(possible_fill)\n",
    "            radius = size//random.choice(possible_radius)    \n",
    "            \n",
    "            if random.choice(figure_type) == 0:\n",
    "                res = cv2.rectangle(res, start_point, end_point, color, thickness)  \n",
    "                output[counter] = {'figure':'rectangle', 'start_point':start_point,\n",
    "                                  'end_point':end_point, 'color':color}\n",
    "                    \n",
    "            elif random.choice(figure_type) == 1:    \n",
    "                res = draw_border(res, start_point, end_point, color, 1, 5, 10)\n",
    "                #print (start_point, end_point)\n",
    "                output[counter] = {'figure':'round_rectangle', 'start_point':start_point,\n",
    "                                  'end_point':end_point, 'color':color}\n",
    "                    \n",
    "            else:\n",
    "                res = cv2.circle(res, center, radius, color, thickness)  \n",
    "                output[counter] = {'figure':'circle', 'center':center,\n",
    "                                  'radius':radius, 'color':color}\n",
    "                \n",
    "            possible_area = delta(possible_area,rect_area)               \n",
    "            if counter == max_number_of_element:\n",
    "                break\n",
    "            else:\n",
    "                continue        \n",
    "        else:\n",
    "            continue\n",
    "    return Image.fromarray(res), output "
   ]
  },
  {
   "cell_type": "code",
   "execution_count": 19,
   "metadata": {},
   "outputs": [
    {
     "data": {
      "image/png": "[encoded data removed]",
      "text/plain": [
       "<PIL.Image.Image image mode=RGB size=150x100 at 0x7F4740F6F908>"
      ]
     },
     "execution_count": 19,
     "metadata": {},
     "output_type": "execute_result"
    }
   ],
   "source": [
    "random_round_rectangles(100,150)[0]"
   ]
  },
  {
   "cell_type": "code",
   "execution_count": 22,
   "metadata": {},
   "outputs": [
    {
     "data": {
      "image/png": "[encoded data removed]",
      "text/plain": [
       "<PIL.Image.Image image mode=RGB size=250x100 at 0x7F4740F6F320>"
      ]
     },
     "execution_count": 22,
     "metadata": {},
     "output_type": "execute_result"
    }
   ],
   "source": [
    "random_round_rectangles(100,250)[0]"
   ]
  },
  {
   "cell_type": "code",
   "execution_count": 24,
   "metadata": {},
   "outputs": [
    {
     "data": {
      "image/png": "[encoded data removed]",
      "text/plain": [
       "<PIL.Image.Image image mode=RGB size=350x100 at 0x7F4740FD9BA8>"
      ]
     },
     "execution_count": 24,
     "metadata": {},
     "output_type": "execute_result"
    }
   ],
   "source": [
    "random_round_rectangles(100,350)[0]"
   ]
  },
  {
   "cell_type": "code",
   "execution_count": 25,
   "metadata": {},
   "outputs": [
    {
     "data": {
      "image/png": "[encoded data removed]",
      "text/plain": [
       "<PIL.Image.Image image mode=RGB size=450x100 at 0x7F47409927F0>"
      ]
     },
     "execution_count": 25,
     "metadata": {},
     "output_type": "execute_result"
    }
   ],
   "source": [
    "random_round_rectangles(100,450)[0]"
   ]
  }
 ],
 "metadata": {
  "kernelspec": {
   "display_name": "Python 3",
   "language": "python",
   "name": "python3"
  },
  "language_info": {
   "codemirror_mode": {
    "name": "ipython",
    "version": 3
   },
   "file_extension": ".py",
   "mimetype": "text/x-python",
   "name": "python",
   "nbconvert_exporter": "python",
   "pygments_lexer": "ipython3",
   "version": "3.6.8"
  }
 },
 "nbformat": 4,
 "nbformat_minor": 2
}
