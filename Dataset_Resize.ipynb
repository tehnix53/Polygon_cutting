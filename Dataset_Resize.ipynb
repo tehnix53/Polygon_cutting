{
 "cells": [
  {
   "cell_type": "code",
   "execution_count": 10,
   "metadata": {},
   "outputs": [],
   "source": [
    "import os\n",
    "import cv2\n",
    "import tqdm\n",
    "import numpy as np\n",
    "from xml.etree import ElementTree"
   ]
  },
  {
   "cell_type": "code",
   "execution_count": 40,
   "metadata": {},
   "outputs": [],
   "source": [
    "def resize_dataset(image, new_heigh, save_dir):  \n",
    "\n",
    "    assert isinstance(new_heigh, int)\n",
    "    \n",
    "    basename_img = os.path.basename(image)\n",
    "    base = basename_img.split('.')[0]\n",
    "    root = os.path.dirname(image)    \n",
    "    xml_name = os.path.join(root, base+'.xml')    \n",
    "    assert os.path.exists(xml_name)\n",
    "    \n",
    "    img = cv2.imread(image) \n",
    "    assert isinstance(img, np.ndarray)\n",
    "    \n",
    "    width = img.shape[1]\n",
    "    height = img.shape[0]    \n",
    "    n = height//new_heigh   \n",
    "    # check input heigth to correct size\n",
    "    assert width%n == 0 and height%n == 0\n",
    "    \n",
    "    # resize image\n",
    "    new_width = width//n\n",
    "    new_height = height//n\n",
    "    new_size = (new_width, new_height)\n",
    "    new_img = cv2.resize(img, new_size)\n",
    "    save_path = os.path.join(save_dir, basename_img)    \n",
    "    cv2.imwrite(save_path, new_img)    \n",
    "\n",
    "    # resize xml\n",
    "    basename_xml = os.path.basename(xml_name)\n",
    "    xml_save_name = os.path.join(save_dir, basename_xml)    \n",
    "    tree = ElementTree.parse(xml_name)\n",
    "    root = tree.getroot()\n",
    "    for i in root:      \n",
    "        if i.tag == 'object':\n",
    "            for el in i:                  \n",
    "                if el.tag == 'polygon':                   \n",
    "                    for j in el:                       \n",
    "                        if j.tag == \"pt\":                       \n",
    "                            for c in j:                                  \n",
    "                                if c.tag == 'x' or c.tag == 'y': \n",
    "                                    new_coord = float(c.text)/n\n",
    "                                    new_coord = round(new_coord,2)           \n",
    "                                    c.text = str(new_coord)                                \n",
    "    tree.write(xml_save_name)     "
   ]
  },
  {
   "cell_type": "code",
   "execution_count": 38,
   "metadata": {},
   "outputs": [
    {
     "data": {
      "text/plain": [
       "53"
      ]
     },
     "execution_count": 38,
     "metadata": {},
     "output_type": "execute_result"
    }
   ],
   "source": [
    "origin_dir = '/home/alex/poker/datasets_for_detector_train/gg_2400'\n",
    "resolutions = ['jpg', 'webp', 'jpeg']\n",
    "imgs = [os.path.join(origin_dir,i) for i in os.listdir(origin_dir) \\\n",
    "        if i.split('.')[-1] in resolutions]\n",
    "len(imgs)"
   ]
  },
  {
   "cell_type": "code",
   "execution_count": 18,
   "metadata": {},
   "outputs": [],
   "source": [
    "test_n = 1200\n",
    "base = os.path.basename(origin_dir)\n",
    "root = os.path.dirname(origin_dir)\n",
    "new_folder = os.path.join(root, base+'_resize_'+str(test_n))\n",
    "if not os.path.exists(new_folder):\n",
    "    os.mkdir(new_folder)"
   ]
  },
  {
   "cell_type": "code",
   "execution_count": 41,
   "metadata": {},
   "outputs": [
    {
     "data": {
      "application/vnd.jupyter.widget-view+json": {
       "model_id": "4cd277f27c9c4768b2b152db46755442",
       "version_major": 2,
       "version_minor": 0
      },
      "text/plain": [
       "HBox(children=(IntProgress(value=0, max=53), HTML(value='')))"
      ]
     },
     "metadata": {},
     "output_type": "display_data"
    },
    {
     "name": "stdout",
     "output_type": "stream",
     "text": [
      "\n"
     ]
    }
   ],
   "source": [
    "for i in tqdm.tqdm_notebook(imgs):\n",
    "    resize_dataset(i, test_n, new_folder)\n",
    "    "
   ]
  },
  {
   "cell_type": "code",
   "execution_count": 43,
   "metadata": {},
   "outputs": [
    {
     "name": "stdout",
     "output_type": "stream",
     "text": [
      "/home/alex/poker/datasets_for_detector_train/gg_2400_resize_1200/image0000000105.jpg\n"
     ]
    },
    {
     "data": {
      "text/plain": [
       "(1200, 540, 3)"
      ]
     },
     "execution_count": 43,
     "metadata": {},
     "output_type": "execute_result"
    }
   ],
   "source": [
    "base = os.path.basename(imgs[0])\n",
    "example = os.path.join(new_folder, base)\n",
    "print (example)\n",
    "example = cv2.imread(example)\n",
    "example.shape"
   ]
  }
 ],
 "metadata": {
  "kernelspec": {
   "display_name": "Python 3",
   "language": "python",
   "name": "python3"
  },
  "language_info": {
   "codemirror_mode": {
    "name": "ipython",
    "version": 3
   },
   "file_extension": ".py",
   "mimetype": "text/x-python",
   "name": "python",
   "nbconvert_exporter": "python",
   "pygments_lexer": "ipython3",
   "version": "3.6.8"
  }
 },
 "nbformat": 4,
 "nbformat_minor": 2
}
